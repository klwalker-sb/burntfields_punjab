{
 "cells": [
  {
   "cell_type": "code",
   "execution_count": 1,
   "id": "d3ad7292",
   "metadata": {},
   "outputs": [],
   "source": [
    "import os\n",
    "import sys\n",
    "from pathlib import Path\n",
    "\n",
    "%matplotlib inline"
   ]
  },
  {
   "cell_type": "code",
   "execution_count": 2,
   "id": "d5589342",
   "metadata": {},
   "outputs": [],
   "source": [
    "sys.path.append(r\"../burntfields\")\n",
    "from rf_model import *"
   ]
  },
  {
   "cell_type": "code",
   "execution_count": 4,
   "id": "99374d7d",
   "metadata": {},
   "outputs": [],
   "source": [
    "###For local visualization:\n",
    "import seaborn as sns\n",
    "import matplotlib.pyplot as plt\n",
    "from sklearn.neighbors import KernelDensity\n",
    "from sklearn.model_selection import GridSearchCV"
   ]
  },
  {
   "cell_type": "code",
   "execution_count": 3,
   "id": "8e2cd021",
   "metadata": {},
   "outputs": [],
   "source": [
    "#####STEP0_DATAPREP###########################################################################################\n",
    "##############################################################################################################"
   ]
  },
  {
   "cell_type": "code",
   "execution_count": 9,
   "id": "0bf66fe3",
   "metadata": {},
   "outputs": [],
   "source": [
    "##############################################################################################################\n",
    "############### STEP0b_DATAPREP: Local commands to split training/non-training data sets:\n",
    "#### This was used for original singular models. For bootstrapped models, see below.\n",
    "data_dir = \"../data\"\n",
    "model_dir = \"../data/rf\"\n",
    "out_dir = \"../out_local\"  #Note: this is gitignored. Make this directory of change path.\n",
    "\n",
    "############ set pixeldf (Full pixel-level dataframe with all variables for all fields):\n",
    "##### Planet-only variables:\n",
    "#pixeldf = os.path.join(data_dir,'V4_pixelData_Planet.csv')\n",
    "##### Sentinel-only variables:\n",
    "#pixeldf = os.path.join(data_dir,'V4_pixelData_Sentinel.csv')\n",
    "##### Combined varaibles (selection, based on above models. or can create new combined set with mergePlanetSentinel() below)\n",
    "pixeldf = os.path.join(data_dir,'V4_pixelData_COMBO.csv')\n",
    "##### All variables with BASMA included:\n",
    "#pixeldf = os.path.join(data_dir,'V4_pixelData_COMBOwBASMA.csv')\n",
    "\n",
    "#############set field_list (List of labeled fields to include, with labels):\n",
    "#field_list = os.path.join(data_dir,labels_2019_with_bbox_V4.csv')\n",
    "field_list = os.path.join(data_dir,'labels_2019_with_bbox_V5.csv')\n",
    "#train_no_train = label_training_pixels(field_list, pixeldf, out_dir, drop_border=True)\n",
    "\n",
    "##############################################################################################################\n",
    "############### STEP0c_DATAPREP: Local commands to sample 20% of training fields to use as holdout\n",
    "##holdout_fields = generate_holdout(field_list, out_dir) # make sure to keep seed constant for replicability (or save output file and load this in future, as below):\n",
    "### to use previous holdout set on file:\n",
    "#holdout_fields = os.path.join(data_dir,'V2_Fields_HoldoutSet1.csv')\n",
    "###    To run model without holdouts (this is a blank dataset with same column names to not alter code):\n",
    "#holdout_fields = os.path.join(data_dir,'V2_Fields_HoldoutSet0.csv')\n",
    "#pixel_path = os.path.join(data_dir,'pixelData_Labeled_V4_Planet.csv')\n",
    "\n",
    "##############################################################################################################\n",
    "###### STEP0d_DATAPREP: Local commands to split holdout fields from training set:\n",
    "## if running STEP0b:\n",
    "#training_path = train_no_train[0]\n",
    "## if loading from previously saved data:\n",
    "##For pixel-level analysis:\n",
    "#training_path = os.path.join(data_dir,'FieldData_labeled_V2m2.csv')\n",
    "## For field-level analysis:\n",
    "#training_path = os.path.join(data_dir,FieldData_labeled_V2m2.csv')\n",
    "\n",
    "#TrainHold = separate_holdout(holdout_fields, training_path, out_dir)\n",
    "\n",
    "##############################################################################################################\n",
    "####### STEP0e_DATAPREP: Local commands to prep test/train dataset for model:\n",
    "###\n",
    "######## set variable_path:\n",
    "### PIXEL-LEVEL model:\n",
    "###    COMBINED VARIABLES (PLANET + Sentinel):\n",
    "#variable_path = 'os.path.join(model_dir,'V4_PixelLevel_variables_COMBO_refined49Final.csv')\n",
    "###    PLANET-ONLY VARIABLES:\n",
    "#variable_path = 'os.path.join(model_dir,'V4_PixelLevel_variables_Planet_refined32_final.csv')\n",
    "###    SENTINEL-ONLY VARIABLES:\n",
    "#variable_path = os.path.join(model_dir,'V4_PixelLevel_variables_Sentinel_refined25.csv')\n",
    "### FIELD-LEVEL model:\n",
    "###    os.path.join(model_dir,'V3_PixelLevel_variables_ALL.csv')\n",
    "###    BASMA (plus COMBO) VARIABLES:\n",
    "#variable_path =os.path.join(model_dir,'V4_PixelLevel_variables_COMBO_refined49wBASMA.csv')\n",
    "### set training_on_path:\n",
    "###  if running STEP0d:\n",
    "#training_on_path = TrainHold[0]\n",
    "#training_on_path = training_path\n",
    "###  if loading from previously saved data:\n",
    "###  PIXEL-LEVEL model:\n",
    "###       COMBINED MODEL:\n",
    "#training_on_path = os.path.join(data_dir,'pixelData_Labeled_COMBO_V4m1_toTrain.csv')\n",
    "###       PLANET-ONLY:\n",
    "#training_on_path = os.path.join(data_dir,'pixelData_Labeled_Planet_V4m1_toTrain.csv')\n",
    "###       SENTINEL-ONLY:\n",
    "#training_on_path = os.path.join(data_dir,'pixelData_Labeled_Sentinel_V4m1_toTrain.csv')\n",
    "###  FIELD-LEVEL MODEL:\n",
    "#training_on_path = os.path.join(data_dir,'2019_V2/FieldData_labeled_V2m2.csv')\n",
    "###\n",
    "\n",
    "### run command:\n",
    "###     For default inbalanced dataset:\n",
    "#train_prep = prep_train_data (training_on_path, variable_path)\n",
    "###    For balanced dataset:\n",
    "#train_prep = prep_train_data (training_on_path, variable_path, balanced=True, field_list=field_list)\n",
    "### check result:\n",
    "#train_prep[1].head(n=5)\n",
    "\n",
    "####### STEP0f_DATAPREP: Local commands to get final test/train sets for model:\n",
    "### if running step0e:\n",
    "#train_features = train_prep[0]\n",
    "#train_labels = train_prep[1]\n",
    "#indices = train_prep[2]\n",
    "### if loading from previously saved data:\n",
    "# \n",
    "###\n",
    "### run command:\n",
    "#model_parts = get_test_train(train_features, train_labels, indices)"
   ]
  },
  {
   "cell_type": "code",
   "execution_count": 5,
   "id": "4421792c",
   "metadata": {},
   "outputs": [],
   "source": [
    "##### Local visualization. Do after STEP 0d, before removing labels from dataset.\n",
    "#train_features = pd.read_csv(training_on_path)\n",
    "#train_features.head(n=5)\n",
    "#sns.pairplot(train_features, hue='labels')"
   ]
  },
  {
   "cell_type": "code",
   "execution_count": 6,
   "id": "d6cbe5e3",
   "metadata": {},
   "outputs": [],
   "source": [
    "#####STEP1_CREATE MODEL ######################################################################################\n",
    "##############################################################################################################"
   ]
  },
  {
   "cell_type": "code",
   "execution_count": 2,
   "id": "47992f44",
   "metadata": {},
   "outputs": [],
   "source": [
    "##### Local commands to generate model. Need to have run STEP0f above.\n",
    "x_train = model_parts[0]\n",
    "y_train = model_parts[2]\n",
    "rf_model = run_rf_model(x_train, y_train, 6888)"
   ]
  },
  {
   "cell_type": "code",
   "execution_count": 8,
   "id": "e41e692c",
   "metadata": {},
   "outputs": [],
   "source": [
    "#####STEP2_CHECK MODEL #######################################################################################\n",
    "##############################################################################################################"
   ]
  },
  {
   "cell_type": "code",
   "execution_count": 10,
   "id": "1ae6fd2e",
   "metadata": {},
   "outputs": [
    {
     "name": "stdout",
     "output_type": "stream",
     "text": [
      "                Gini-importance\n",
      "blueAvg                0.013047\n",
      "blueMax                0.016397\n",
      "blueMin                0.013244\n",
      "greenAvg               0.011302\n",
      "greenMax               0.014036\n",
      "...                         ...\n",
      "BAS_CharMin            0.010429\n",
      "BAS_CharStdv           0.018908\n",
      "BAS_CharSpike0         0.011661\n",
      "BAS_SSpike0            0.017381\n",
      "BAS_SDrop0             0.018436\n",
      "\n",
      "[61 rows x 1 columns]\n"
     ]
    },
    {
     "ename": "NameError",
     "evalue": "name 'holdoutPred' is not defined",
     "output_type": "error",
     "traceback": [
      "\u001b[1;31m---------------------------------------------------------------------------\u001b[0m",
      "\u001b[1;31mNameError\u001b[0m                                 Traceback (most recent call last)",
      "\u001b[1;32m<ipython-input-10-a39595714a1e>\u001b[0m in \u001b[0;36m<module>\u001b[1;34m\u001b[0m\n\u001b[0;32m     36\u001b[0m \u001b[1;31m#holdoutPred = pd.read_csv('C:/Users/klobw/Desktop/Testing/V4_LOOCV_Holdout_final.csv')\u001b[0m\u001b[1;33m\u001b[0m\u001b[1;33m\u001b[0m\u001b[1;33m\u001b[0m\u001b[0m\n\u001b[0;32m     37\u001b[0m \u001b[1;33m\u001b[0m\u001b[0m\n\u001b[1;32m---> 38\u001b[1;33m \u001b[0mHOAcc\u001b[0m \u001b[1;33m=\u001b[0m \u001b[0mget_holdout_accuracy\u001b[0m\u001b[1;33m(\u001b[0m\u001b[0mholdoutPred\u001b[0m\u001b[1;33m)\u001b[0m\u001b[1;33m\u001b[0m\u001b[1;33m\u001b[0m\u001b[0m\n\u001b[0m\u001b[0;32m     39\u001b[0m \u001b[1;31m#FieldList = \"C:/Users/klobw/Desktop/PunjabBurning/Analysis/KW_code/burntfields/Data/Data_1_input_transformed/2019_V2/labels_2019_with_bbox_V2m3.csv\"\u001b[0m\u001b[1;33m\u001b[0m\u001b[1;33m\u001b[0m\u001b[1;33m\u001b[0m\u001b[0m\n",
      "\u001b[1;31mNameError\u001b[0m: name 'holdoutPred' is not defined"
     ]
    }
   ],
   "source": [
    "############# Local commands to check model. Need to have run STEPs 0f and 1 above.\n",
    "###For singular models. See below for bootstrapped models. \n",
    "#### Get quick accuracy assesment for training pixels (biased for pixel-level!)\n",
    "#x_test = model_parts[1]\n",
    "#y_test = model_parts[3]\n",
    "#accuracy = quick_accuracy(x_test, y_test, rf_model)\n",
    "\n",
    "#### Get Variable importance for model:\n",
    "#x_train = model_parts[0]\n",
    "get_variable_importance(rf_model, x_train, out_dir)\n",
    "\n",
    "#### Get model prediction scores:\n",
    "#indices_train = model_parts[4]\n",
    "#indices_test = model_parts[5]\n",
    "#ids = train_prep[3]\n",
    "#field_ids = train_prep[4]\n",
    "#train_pred = get_predprob(train_features, indices_train, indices_test, train_labels, x_train, x_test, ids, field_ids)\n",
    "\n",
    "#### Get best features (run iteratively until best accuracy is reached)\n",
    "#select_best_features(train_features,train_labels,out_dir)\n",
    "\n",
    "#### Graph ROC curve for diagnostics:\n",
    "#burn_probs = holdout_fields_predicted['pred']\n",
    "#burn_index = holdout_fields_predicted['label']\n",
    "#print_roc_curve(burn_probs,burn_index)\n",
    "\n",
    "#### Get holdout prediction scores:\n",
    "## if running STEP0d:\n",
    "#holdout_field_pix_path = train_hold[1]\n",
    "## if loading from previously saved data:\n",
    "#holdout_field_pix_path = os.path.join(data_dir,'pixelData_Labeled_COMBO_V4m1_Holdout.csv')\n",
    "#holdout_field_pix_path = os.path.join(data_dir,'pixelData_Labeled_Planet_V4m1_Holdout.csv')\n",
    "#holdout_field_pix_path = os.path.join(data_dir,'pixelData_Labeled_Sentinel_V4m1_Holdout.csv')\n",
    "\n",
    "#holdout_pred = get_holdout_scores(holdout_field_pix_path, variable_path, rf_model, out_dir)\n",
    "#holdout_pred = pd.read_csv(os.path.join(data_dir,'V4_LOOCV_Holdout_final.csv'))\n",
    "\n",
    "hoacc = get_holdout_accuracy(holdout_pred)\n",
    "#field_list = os.path.join(data_dir,'labels_2019_with_bbox_V2m3.csv')"
   ]
  },
  {
   "cell_type": "code",
   "execution_count": null,
   "id": "5fe9f7cd",
   "metadata": {},
   "outputs": [],
   "source": [
    "####inspect fit of training data\n",
    "\n",
    "##If train_pred is run above:\n",
    "#train_features_predicted = train_pred\n",
    "##else load prediction scores from file:\n",
    "#train_features_predicted = os.path.join(model_dir,'V2_Model1_predictions_score.csv')\n",
    "#sns.FacetGrid(train_features_predicted, hue=\"label\", height=6).map(sns.kdeplot, \"pred_train\").add_legend()\n",
    "#plt.show()"
   ]
  },
  {
   "cell_type": "code",
   "execution_count": 15,
   "id": "15c1c77e",
   "metadata": {},
   "outputs": [
    {
     "data": {
      "image/png": "[encoded data removed]",
      "text/plain": [
       "<Figure size 258.375x216 with 1 Axes>"
      ]
     },
     "metadata": {
      "needs_background": "light"
     },
     "output_type": "display_data"
    }
   ],
   "source": [
    "####inspect fit of holdout data\n",
    "\n",
    "##If train_pred is run above:\n",
    "holdout_fields_predicted = holdout_pred\n",
    "##else load prediction scores from file:\n",
    "#pd.read_csv(os.path.join(data_dir,'V2_Model1_testing_FieldHoldouts_.csv')\n",
    "sns.FacetGrid(holdout_fields_predicted, hue=\"label\", height=3).map(sns.kdeplot, \"pred\").add_legend()\n",
    "plt.show()"
   ]
  },
  {
   "cell_type": "code",
   "execution_count": 5,
   "id": "1c60d7f6",
   "metadata": {},
   "outputs": [
    {
     "name": "stdout",
     "output_type": "stream",
     "text": [
      "final DF has 4908599 rows\n"
     ]
    }
   ],
   "source": [
    "###To Create combined Planet/Sentinel DataSet:\n",
    "#planet_path = 'os.path.join(data_dir,'V4_pixelData_Planet.csv')\n",
    "#sentinel_path = os.path.join(data_dir,'V4_pixelData_Sentinel.csv')\n",
    "#use_Sentinel=['pixel_id','imgCount','MIRBISpike0','blueMax', 'nirDrop1', 'MIRBISpike0', 'MIRBI80', 'redEdge3Min', \n",
    "#             'BurnScarSpike0','BurnScarMax', 'BurnScarAvg', 'NBRAvg', 'red20', 'NBRDrop0', 'SWIR2Min', 'NBR2Min', 'SWIR2Avg', \n",
    "#             'NBR2Drop1', 'CIMin', 'MIRBIMax', 'CIDrop1', 'greenMax', 'SWIR1Min', 'blueAvg', 'SWIR2Drop1']\n",
    "#merge_planet_sentinel(planet_path, sentinel_path, use_Sentinel, out_dir)\n",
    "\n",
    "###To Create combined Planet/Sentinel/BASMA DataSet:\n",
    "combo_path = os.path.join(data_dir,'V4_pixelData_COMBO.csv')\n",
    "basma_path = os.path.join(data_dir,'V4_pixelData_BASMA.csv')\n",
    "use_basma=['pixel_id','imgCount','blueAvg','blueMax', 'greenAvg', 'greenMax', 'redAvg', 'redMax', 'redSpike0','greenSpike0', \n",
    "             'greenDrop0','redMin', 'greenMin', 'blueStdv', 'greenStdv', 'redStdv']\n",
    "merge_planet_basma(combo_path, basma_path, use_basma, out_dir)"
   ]
  },
  {
   "cell_type": "code",
   "execution_count": null,
   "id": "e0611c41",
   "metadata": {},
   "outputs": [],
   "source": [
    "#####STEP3_FIT MODEL TO NONTRAINING DATA #####################################################################\n",
    "##############################################################################################################"
   ]
  },
  {
   "cell_type": "code",
   "execution_count": 22,
   "id": "8d7e9ba4",
   "metadata": {},
   "outputs": [
    {
     "name": "stdout",
     "output_type": "stream",
     "text": [
      "4364978 pixels after dropping borders\n",
      "4359473 pixes after dropping NAs\n"
     ]
    },
    {
     "name": "stderr",
     "output_type": "stream",
     "text": [
      "C:\\Users\\klobw\\Desktop\\PunjabBurning\\Analysis\\KW_code\\burntfields\\burntfields\\burntfields\\Rf_model.py:52: SettingWithCopyWarning: \n",
      "A value is trying to be set on a copy of a slice from a DataFrame.\n",
      "Try using .loc[row_indexer,col_indexer] = value instead\n",
      "\n",
      "See the caveats in the documentation: https://pandas.pydata.org/pandas-docs/stable/user_guide/indexing.html#returning-a-view-versus-a-copy\n",
      "  TrainingPixels['set'] = 'TRAINING'\n",
      "C:\\Users\\klobw\\Desktop\\PunjabBurning\\Analysis\\KW_code\\burntfields\\burntfields\\burntfields\\Rf_model.py:55: SettingWithCopyWarning: \n",
      "A value is trying to be set on a copy of a slice from a DataFrame.\n",
      "Try using .loc[row_indexer,col_indexer] = value instead\n",
      "\n",
      "See the caveats in the documentation: https://pandas.pydata.org/pandas-docs/stable/user_guide/indexing.html#returning-a-view-versus-a-copy\n",
      "  NonTrainingPixels['set'] = 'NONTRAINING'\n"
     ]
    },
    {
     "name": "stdout",
     "output_type": "stream",
     "text": [
      "pixel dataset has 4908599 rows and 4896182 unique pixel IDs\n",
      "pixel dataframe has 4896182 rows after dropping duplicates\n",
      "4889244 pixes after dropping NAs\n",
      "4348661 pixels after dropping borders\n",
      "[               pixel_id  label\n",
      "0        1100100131_100      0\n",
      "1       1100100131_1001      0\n",
      "2       1100100131_1002      0\n",
      "3       1100100131_1003      0\n",
      "4       1100100131_1004      0\n",
      "...                 ...    ...\n",
      "851646   6128100661_714      1\n",
      "851647   6128100661_740      1\n",
      "851648   6128100661_741      1\n",
      "851649   6128100661_742      1\n",
      "851650   6128100661_770      1\n",
      "\n",
      "[851651 rows x 2 columns]]\n",
      "shuffling fields\n",
      "Working on strata: Control\n",
      "125 fields in this strata. 25 fields in each fold with r 0.\n",
      "Fold 0 has 0.0 extra fields\n",
      "pulling rows between 0 and 24.0\n",
      "Fold 1 has 0.0 extra fields\n",
      "pulling rows between 25.0 and 49.0\n",
      "Fold 2 has 0.0 extra fields\n",
      "pulling rows between 50.0 and 74.0\n",
      "Fold 3 has 0.0 extra fields\n",
      "pulling rows between 75.0 and 99.0\n",
      "Fold 4 has 0.0 extra fields\n",
      "pulling rows between 100.0 and 124.0\n",
      "Working on strata: PES   800/acre with 25\\% upfront payment\n",
      "145 fields in this strata. 29 fields in each fold with r 0.\n",
      "Fold 0 has 0.0 extra fields\n",
      "pulling rows between 0 and 28.0\n",
      "Fold 1 has 0.0 extra fields\n",
      "pulling rows between 29.0 and 57.0\n",
      "Fold 2 has 0.0 extra fields\n",
      "pulling rows between 58.0 and 86.0\n",
      "Fold 3 has 0.0 extra fields\n",
      "pulling rows between 87.0 and 115.0\n",
      "Fold 4 has 0.0 extra fields\n",
      "pulling rows between 116.0 and 144.0\n",
      "Working on strata: PES 1600/acre\n",
      "124 fields in this strata. 24 fields in each fold with r 4.\n",
      "Fold 0 has 1.0 extra fields\n",
      "pulling rows between 0 and 24.0\n",
      "Fold 1 has 1.0 extra fields\n",
      "pulling rows between 25.0 and 49.0\n",
      "Fold 2 has 1.0 extra fields\n",
      "pulling rows between 50.0 and 74.0\n",
      "Fold 3 has 1.0 extra fields\n",
      "pulling rows between 75.0 and 99.0\n",
      "Fold 4 has 0.0 extra fields\n",
      "pulling rows between 100.0 and 123.0\n",
      "Working on strata: PES 800/acre\n",
      "117 fields in this strata. 23 fields in each fold with r 2.\n",
      "Fold 0 has 1.0 extra fields\n",
      "pulling rows between 0 and 23.0\n",
      "Fold 1 has 1.0 extra fields\n",
      "pulling rows between 24.0 and 47.0\n",
      "Fold 2 has 0.0 extra fields\n",
      "pulling rows between 48.0 and 70.0\n",
      "Fold 3 has 0.0 extra fields\n",
      "pulling rows between 71.0 and 93.0\n",
      "Fold 4 has 0.0 extra fields\n",
      "pulling rows between 94.0 and 116.0\n",
      "Working on strata: PES 800/acre  with 50\\% upfront payment\n",
      "190 fields in this strata. 38 fields in each fold with r 0.\n",
      "Fold 0 has 0.0 extra fields\n",
      "pulling rows between 0 and 37.0\n",
      "Fold 1 has 0.0 extra fields\n",
      "pulling rows between 38.0 and 75.0\n",
      "Fold 2 has 0.0 extra fields\n",
      "pulling rows between 76.0 and 113.0\n",
      "Fold 3 has 0.0 extra fields\n",
      "pulling rows between 114.0 and 151.0\n",
      "Fold 4 has 0.0 extra fields\n",
      "pulling rows between 152.0 and 189.0\n",
      "working on fold 0...\n"
     ]
    },
    {
     "name": "stderr",
     "output_type": "stream",
     "text": [
      "C:\\Users\\klobw\\Desktop\\PunjabBurning\\Analysis\\KW_code\\burntfields\\burntfields\\burntfields\\Rf_model.py:113: SettingWithCopyWarning: \n",
      "A value is trying to be set on a copy of a slice from a DataFrame.\n",
      "Try using .loc[row_indexer,col_indexer] = value instead\n",
      "\n",
      "See the caveats in the documentation: https://pandas.pydata.org/pandas-docs/stable/user_guide/indexing.html#returning-a-view-versus-a-copy\n",
      "  pixels_holdouts['set']='HOLDOUT'\n",
      "C:\\Users\\klobw\\Desktop\\PunjabBurning\\Analysis\\KW_code\\burntfields\\burntfields\\burntfields\\Rf_model.py:115: SettingWithCopyWarning: \n",
      "A value is trying to be set on a copy of a slice from a DataFrame.\n",
      "Try using .loc[row_indexer,col_indexer] = value instead\n",
      "\n",
      "See the caveats in the documentation: https://pandas.pydata.org/pandas-docs/stable/user_guide/indexing.html#returning-a-view-versus-a-copy\n",
      "  pixels_training['set']='TRAINING'\n"
     ]
    },
    {
     "name": "stdout",
     "output_type": "stream",
     "text": [
      "original training set had 853652 rows. Current training set has 673535 rows and holdout has 180117 rows.\n",
      "There are 673535 training features\n",
      "train features shape: (666799, 46)\n",
      "train indices shape: (666799,)\n",
      "test features shape: (6736, 46)\n",
      "test indices shape: (6736,)\n",
      "180117\n",
      "0.7342560668898549\n",
      "4348661 unique pixel ids for 4348661 rows in db\n",
      "model has 49 variables\n",
      "(4348661, 46)\n",
      "(4348661, 46)\n"
     ]
    },
    {
     "name": "stderr",
     "output_type": "stream",
     "text": [
      "C:\\Users\\klobw\\anaconda3\\envs\\planet_orders\\lib\\site-packages\\pandas\\core\\frame.py:5034: SettingWithCopyWarning: \n",
      "A value is trying to be set on a copy of a slice from a DataFrame\n",
      "\n",
      "See the caveats in the documentation: https://pandas.pydata.org/pandas-docs/stable/user_guide/indexing.html#returning-a-view-versus-a-copy\n",
      "  return super().rename(\n"
     ]
    },
    {
     "name": "stdout",
     "output_type": "stream",
     "text": [
      "working on fold 1...\n"
     ]
    },
    {
     "name": "stderr",
     "output_type": "stream",
     "text": [
      "C:\\Users\\klobw\\Desktop\\PunjabBurning\\Analysis\\KW_code\\burntfields\\burntfields\\burntfields\\Rf_model.py:113: SettingWithCopyWarning: \n",
      "A value is trying to be set on a copy of a slice from a DataFrame.\n",
      "Try using .loc[row_indexer,col_indexer] = value instead\n",
      "\n",
      "See the caveats in the documentation: https://pandas.pydata.org/pandas-docs/stable/user_guide/indexing.html#returning-a-view-versus-a-copy\n",
      "  pixels_holdouts['set']='HOLDOUT'\n",
      "C:\\Users\\klobw\\Desktop\\PunjabBurning\\Analysis\\KW_code\\burntfields\\burntfields\\burntfields\\Rf_model.py:115: SettingWithCopyWarning: \n",
      "A value is trying to be set on a copy of a slice from a DataFrame.\n",
      "Try using .loc[row_indexer,col_indexer] = value instead\n",
      "\n",
      "See the caveats in the documentation: https://pandas.pydata.org/pandas-docs/stable/user_guide/indexing.html#returning-a-view-versus-a-copy\n",
      "  pixels_training['set']='TRAINING'\n"
     ]
    },
    {
     "name": "stdout",
     "output_type": "stream",
     "text": [
      "original training set had 853652 rows. Current training set has 688975 rows and holdout has 164677 rows.\n",
      "There are 688975 training features\n",
      "train features shape: (682085, 46)\n",
      "train indices shape: (682085,)\n",
      "test features shape: (6890, 46)\n",
      "test indices shape: (6890,)\n",
      "164677\n",
      "0.6886268270614597\n",
      "4348661 unique pixel ids for 4348661 rows in db\n",
      "model has 49 variables\n",
      "(4348661, 46)\n",
      "(4348661, 46)\n"
     ]
    },
    {
     "name": "stderr",
     "output_type": "stream",
     "text": [
      "C:\\Users\\klobw\\anaconda3\\envs\\planet_orders\\lib\\site-packages\\pandas\\core\\frame.py:5034: SettingWithCopyWarning: \n",
      "A value is trying to be set on a copy of a slice from a DataFrame\n",
      "\n",
      "See the caveats in the documentation: https://pandas.pydata.org/pandas-docs/stable/user_guide/indexing.html#returning-a-view-versus-a-copy\n",
      "  return super().rename(\n"
     ]
    },
    {
     "name": "stdout",
     "output_type": "stream",
     "text": [
      "working on fold 2...\n"
     ]
    },
    {
     "name": "stderr",
     "output_type": "stream",
     "text": [
      "C:\\Users\\klobw\\Desktop\\PunjabBurning\\Analysis\\KW_code\\burntfields\\burntfields\\burntfields\\Rf_model.py:113: SettingWithCopyWarning: \n",
      "A value is trying to be set on a copy of a slice from a DataFrame.\n",
      "Try using .loc[row_indexer,col_indexer] = value instead\n",
      "\n",
      "See the caveats in the documentation: https://pandas.pydata.org/pandas-docs/stable/user_guide/indexing.html#returning-a-view-versus-a-copy\n",
      "  pixels_holdouts['set']='HOLDOUT'\n",
      "C:\\Users\\klobw\\Desktop\\PunjabBurning\\Analysis\\KW_code\\burntfields\\burntfields\\burntfields\\Rf_model.py:115: SettingWithCopyWarning: \n",
      "A value is trying to be set on a copy of a slice from a DataFrame.\n",
      "Try using .loc[row_indexer,col_indexer] = value instead\n",
      "\n",
      "See the caveats in the documentation: https://pandas.pydata.org/pandas-docs/stable/user_guide/indexing.html#returning-a-view-versus-a-copy\n",
      "  pixels_training['set']='TRAINING'\n"
     ]
    },
    {
     "name": "stdout",
     "output_type": "stream",
     "text": [
      "original training set had 853652 rows. Current training set has 684901 rows and holdout has 168751 rows.\n",
      "There are 684901 training features\n",
      "train features shape: (678051, 46)\n",
      "train indices shape: (678051,)\n",
      "test features shape: (6850, 46)\n",
      "test indices shape: (6850,)\n",
      "168751\n",
      "0.8056841144645068\n",
      "4348661 unique pixel ids for 4348661 rows in db\n",
      "model has 49 variables\n",
      "(4348661, 46)\n",
      "(4348661, 46)\n"
     ]
    },
    {
     "name": "stderr",
     "output_type": "stream",
     "text": [
      "C:\\Users\\klobw\\anaconda3\\envs\\planet_orders\\lib\\site-packages\\pandas\\core\\frame.py:5034: SettingWithCopyWarning: \n",
      "A value is trying to be set on a copy of a slice from a DataFrame\n",
      "\n",
      "See the caveats in the documentation: https://pandas.pydata.org/pandas-docs/stable/user_guide/indexing.html#returning-a-view-versus-a-copy\n",
      "  return super().rename(\n"
     ]
    },
    {
     "name": "stdout",
     "output_type": "stream",
     "text": [
      "working on fold 3...\n"
     ]
    },
    {
     "name": "stderr",
     "output_type": "stream",
     "text": [
      "C:\\Users\\klobw\\Desktop\\PunjabBurning\\Analysis\\KW_code\\burntfields\\burntfields\\burntfields\\Rf_model.py:113: SettingWithCopyWarning: \n",
      "A value is trying to be set on a copy of a slice from a DataFrame.\n",
      "Try using .loc[row_indexer,col_indexer] = value instead\n",
      "\n",
      "See the caveats in the documentation: https://pandas.pydata.org/pandas-docs/stable/user_guide/indexing.html#returning-a-view-versus-a-copy\n",
      "  pixels_holdouts['set']='HOLDOUT'\n",
      "C:\\Users\\klobw\\Desktop\\PunjabBurning\\Analysis\\KW_code\\burntfields\\burntfields\\burntfields\\Rf_model.py:115: SettingWithCopyWarning: \n",
      "A value is trying to be set on a copy of a slice from a DataFrame.\n",
      "Try using .loc[row_indexer,col_indexer] = value instead\n",
      "\n",
      "See the caveats in the documentation: https://pandas.pydata.org/pandas-docs/stable/user_guide/indexing.html#returning-a-view-versus-a-copy\n",
      "  pixels_training['set']='TRAINING'\n"
     ]
    },
    {
     "name": "stdout",
     "output_type": "stream",
     "text": [
      "original training set had 853652 rows. Current training set has 674002 rows and holdout has 179650 rows.\n",
      "There are 674002 training features\n",
      "train features shape: (667261, 46)\n",
      "train indices shape: (667261,)\n",
      "test features shape: (6741, 46)\n",
      "test indices shape: (6741,)\n",
      "179650\n",
      "0.7478931255218481\n",
      "4348661 unique pixel ids for 4348661 rows in db\n",
      "model has 49 variables\n",
      "(4348661, 46)\n",
      "(4348661, 46)\n"
     ]
    },
    {
     "name": "stderr",
     "output_type": "stream",
     "text": [
      "C:\\Users\\klobw\\anaconda3\\envs\\planet_orders\\lib\\site-packages\\pandas\\core\\frame.py:5034: SettingWithCopyWarning: \n",
      "A value is trying to be set on a copy of a slice from a DataFrame\n",
      "\n",
      "See the caveats in the documentation: https://pandas.pydata.org/pandas-docs/stable/user_guide/indexing.html#returning-a-view-versus-a-copy\n",
      "  return super().rename(\n"
     ]
    },
    {
     "name": "stdout",
     "output_type": "stream",
     "text": [
      "working on fold 4...\n"
     ]
    },
    {
     "name": "stderr",
     "output_type": "stream",
     "text": [
      "C:\\Users\\klobw\\Desktop\\PunjabBurning\\Analysis\\KW_code\\burntfields\\burntfields\\burntfields\\Rf_model.py:113: SettingWithCopyWarning: \n",
      "A value is trying to be set on a copy of a slice from a DataFrame.\n",
      "Try using .loc[row_indexer,col_indexer] = value instead\n",
      "\n",
      "See the caveats in the documentation: https://pandas.pydata.org/pandas-docs/stable/user_guide/indexing.html#returning-a-view-versus-a-copy\n",
      "  pixels_holdouts['set']='HOLDOUT'\n",
      "C:\\Users\\klobw\\Desktop\\PunjabBurning\\Analysis\\KW_code\\burntfields\\burntfields\\burntfields\\Rf_model.py:115: SettingWithCopyWarning: \n",
      "A value is trying to be set on a copy of a slice from a DataFrame.\n",
      "Try using .loc[row_indexer,col_indexer] = value instead\n",
      "\n",
      "See the caveats in the documentation: https://pandas.pydata.org/pandas-docs/stable/user_guide/indexing.html#returning-a-view-versus-a-copy\n",
      "  pixels_training['set']='TRAINING'\n"
     ]
    },
    {
     "name": "stdout",
     "output_type": "stream",
     "text": [
      "original training set had 853652 rows. Current training set has 698924 rows and holdout has 154728 rows.\n",
      "There are 698924 training features\n",
      "train features shape: (691934, 46)\n",
      "train indices shape: (691934,)\n",
      "test features shape: (6990, 46)\n",
      "test indices shape: (6990,)\n",
      "154728\n",
      "0.8290871723282147\n",
      "4348661 unique pixel ids for 4348661 rows in db\n",
      "model has 49 variables\n",
      "(4348661, 46)\n",
      "(4348661, 46)\n"
     ]
    },
    {
     "name": "stderr",
     "output_type": "stream",
     "text": [
      "C:\\Users\\klobw\\anaconda3\\envs\\planet_orders\\lib\\site-packages\\pandas\\core\\frame.py:5034: SettingWithCopyWarning: \n",
      "A value is trying to be set on a copy of a slice from a DataFrame\n",
      "\n",
      "See the caveats in the documentation: https://pandas.pydata.org/pandas-docs/stable/user_guide/indexing.html#returning-a-view-versus-a-copy\n",
      "  return super().rename(\n"
     ]
    }
   ],
   "source": [
    "####Local settings for bootstrapped models:\n",
    "\n",
    "out_dir = \"../out_local\"  #Note: this is gitignored. Make this directory of change path.\n",
    "field_list = os.path.join(data_dir,'labels_2019_with_bbox_V4.csv')\n",
    "#pixeldf = os.path.join(data_dir,'V4_pixelData_COMBO.csv')\n",
    "pixeldf = os.path.join(data_dir,'V4_pixelData_COMBO.csv')\n",
    "train_non_train = label_training_pixels(field_list, pixeldf, out_dir, drop_border=True)\n",
    "training_path = train_non_train[0]\n",
    "\n",
    "variable_path = os.path.join(data_dir,'V4_PixelLevel_variables_COMBO_refined49Final.csv')\n",
    "###If using drop_border=False, use variable list with border included:\n",
    "#variable_path = os.path.join(data_dir,'V4_PixelLevel_variables_COMBO_refined49Final_wBorder.csv')\n",
    "## With BASMA:\n",
    "#variable_path = os.path.join(data_dir,'V4_PixelLevel_variables_COMBOwBASMA_Final.csv')\n",
    "\n",
    "#add_vars = os.path.join(model_dir,'VarsAdd.csv\")\n",
    "#rm_vars = os.path.join(model_dir,'VarsDrop.csv\")\n",
    "#switch_vars = os.path.join(model_dir,'SwitchVars.csv\")\n",
    "\n",
    "####For Finding best Model:\n",
    "#acc = bootstrap_holdout(out_dir, field_list, training_path, variable_path, 1)\n",
    "#avgacc = pd.DataFrame.mean(acc['OA'])\n",
    "#print('Average accuracy is: {}'.format(avgacc))\n",
    "\n",
    "#select_variables_with_bootstrap(variable_path, None, None, rm_vars, out_dir, field_list, training_path, 5)\n",
    "\n",
    "####For getting predictions and accuracies once best model is found:\n",
    "#feature_path = os.path.join(data_dir,'VarsDrop.csv\"V4_pixelData_Sentinel.csv')\n",
    "#pixeldf = os.path.join(data_dir,'V4_pixelData_COMBO.csv')\n",
    "#variable_path = os.path.join(model_dir,'V4_PixelLevel_variables_COMBO_refined49Final.csv')\n",
    "#split_csv_k(field_list, out_dir, 5, shuffle=True, strat='treatment', seed=8)\n",
    "accO = bootstrap_holdout(out_dir, field_list, training_path, variable_path, 5, method='k', fit=True, all_features=pixeldf, seed1=8, seed2=6888, drop_border=True, strat='treatment')"
   ]
  },
  {
   "cell_type": "code",
   "execution_count": 1,
   "id": "3cd244f7",
   "metadata": {},
   "outputs": [],
   "source": [
    "### inspect fit\n",
    "#sns.FacetGrid(nonPred, height=6).map(sns.kdeplot, \"pred\").add_legend()\n",
    "#plt.show()"
   ]
  },
  {
   "cell_type": "code",
   "execution_count": null,
   "id": "7bd5b4b8",
   "metadata": {},
   "outputs": [],
   "source": [
    "#### Get all prediction scores (singular model without bootstrapping):\n",
    "\n",
    "out_dir = \"../out_local\"  #Note: this is gitignored. Make this directory of change path.\n",
    "\n",
    "### FEATURE_PATH:\n",
    "##    field_level:\n",
    "#feature_path = os.path.join(data_dir,'FieldData_V2.csv')\n",
    "##    pixel_level (output from pixel_calcs.py):\n",
    "#feature_path = os.path.join(data_dir,'V4_pixelData_Planet.csv')\n",
    "feature_path = os.path.join(data_dir,'V4_pixelData_COMBO.csv')\n",
    "#feature_path = os.path.join(data_dir,'V4_pixelData_Sentinel.csv')\n",
    "\n",
    "### VARIABLE_PATH:\n",
    "##    field_level:\n",
    "#variable_path = os.path.join(data_dir,'V2_FieldLevel_Model1_variables_Refined30.csv')\n",
    "##    pixel_level:\n",
    "##        COMBO:\n",
    "variable_path =os.path.join(model_dir,'V4_PixelLevel_variables_COMBO_refined49Final.csv')\n",
    "##        PLANET:\n",
    "#variable_path = os.path.join(model_dir,'V4_PixelLevel_variables_Planet_refined46.csv')\n",
    "##        SENTINEL:\n",
    "#variable_path = os.path.join(model_dir,'V4_PixelLevel_variables_Sentinel_refined28.csv')\n",
    "### Main command:\n",
    "non_pred = get_all_scores(feature_path, variable_path, rf_model, out_dir, print_db=True)"
   ]
  },
  {
   "cell_type": "code",
   "execution_count": 23,
   "id": "f1281017",
   "metadata": {},
   "outputs": [
    {
     "name": "stdout",
     "output_type": "stream",
     "text": [
      "final model has 3167 fields, 696 of which are training fields.\n"
     ]
    }
   ],
   "source": [
    "### CLEANING -- GET FINAL DATASET ########################################################################################\n",
    "\n",
    "##################################################################################################################\n",
    "### with simple holdout --  no k-fold, bootsrapping or LOOCV methods used:\n",
    "##################################################################################################################\n",
    "## For simple dataframe with only pixel_id, field_id & prediction\n",
    "#simplify_dataset(non_pred, out_dir)\n",
    "\n",
    "## with training flags and labels added:\n",
    "#holdout_field_pix_path = pd.read_csv(os.path.join(out_dir,'V4_Model_testing_FieldLevel_Holdout_FullFieldx.csv'),index_col=[0])\n",
    "#df_final = get_final_pixel_dataset(non_pred, training_on_path, holdout_field_pix_path, out_dir)\n",
    "\n",
    "##################################################################################################################\n",
    "### after bootstrapping methods were used:\n",
    "##################################################################################################################\n",
    "### If running directly after bootstrapHoldout:\n",
    "#holdout_df = accO[1]\n",
    "#full_df = accO[0]\n",
    "\n",
    "### If loading from saved files:\n",
    "#holdout_df = pd.read_csv(os.path.join(out_dir,'V4_HoldoutPred.csv'),index_col=[0])\n",
    "\n",
    "#full_df = pd.read_csv(os.path.join(out_dir,'V4_predictions.csv'),index_col=[0])\n",
    "#get_final_datasets_bootstrapped(holdout_df, full_df, out_dir)\n",
    "\n",
    "##################################################################################################################\n",
    "### after LOOCV methods were used:\n",
    "##################################################################################################################\n",
    "## run LOOCV on cluster with BASH script\n",
    "## run consolidate_loocv.py on cluster with BASH script (note consolidate_loocv.py is not installed and should be loaded into folder with BASH script) )\n",
    "## download holdoutDF and FullDF outputs\n",
    "## run locally: get_final_datasets_loocv(holdout_df, full_df, labeled_list, out_dir)"
   ]
  },
  {
   "cell_type": "code",
   "execution_count": null,
   "id": "3a939e15",
   "metadata": {},
   "outputs": [],
   "source": [
    "########### Data checks ##################################################################################################\n",
    "##########################################################################################################################"
   ]
  },
  {
   "cell_type": "code",
   "execution_count": 7,
   "id": "16e4d58e",
   "metadata": {},
   "outputs": [],
   "source": [
    "###Check dropped fields from pixel-level model:\n",
    "def check_dropped(model, field_list, type='All'):\n",
    "    if isinstance(model, pd.DataFrame):\n",
    "        df = model\n",
    "    else:\n",
    "        df = pd.read_csv(model)\n",
    "    \n",
    "    if type=='Training':\n",
    "        if 'training' in df:\n",
    "            final_set = df[df['training']==1]\n",
    "        else: final_set = df\n",
    "    else: final_set = df\n",
    "    \n",
    "    if 'field_id' not in final_set:\n",
    "        final_set['field_id'] = final_set['pixel_id'].str[:10]\n",
    "        \n",
    "    final_set.drop_duplicates('field_id', inplace=True)\n",
    "    final_set['field_id'] = pd.to_numeric(final_set['field_id'])\n",
    "    \n",
    "    fields_kept = final_set['field_id'].to_list()\n",
    "    fields_in = pd.read_csv(field_list)\n",
    "    orig_fields = fields_in['unique_id'].to_list()\n",
    "    \n",
    "    print('original field list has {} fields, final dataset has {} fields'.format(len(orig_fields),len(fields_kept)) )\n",
    "    fields_dropped = []\n",
    "    for f in orig_fields:\n",
    "        if f not in fields_kept:\n",
    "            fields_dropped.append(f)\n",
    "    print('Fields dropped: {}'.format(fields_dropped))\n",
    "    \n",
    "    return(fields_dropped)"
   ]
  },
  {
   "cell_type": "code",
   "execution_count": 10,
   "id": "54dab141",
   "metadata": {},
   "outputs": [
    {
     "name": "stdout",
     "output_type": "stream",
     "text": [
      "original field list has 682 fields, final dataset has 3209 fields\n",
      "Fields dropped: [2114900921]\n"
     ]
    },
    {
     "data": {
      "text/plain": [
       "[2114900921]"
      ]
     },
     "execution_count": 10,
     "metadata": {},
     "output_type": "execute_result"
    }
   ],
   "source": [
    "check_dropped(pixeldf,field_list,type='ALL')"
   ]
  },
  {
   "cell_type": "code",
   "execution_count": 4,
   "id": "9641c96a",
   "metadata": {},
   "outputs": [],
   "source": [
    "def drop_training_woHO(model, ho_check):\n",
    "    '''\n",
    "    For k-fold models, Need to delete training fields that were not assigned a fold (due to lack of treatment arm info, etc.)\n",
    "    Otherwise, they have near perfect predictions\n",
    "    TODO, incorporate this into the holdout scripts rather than running ad-hoc.\n",
    "    '''\n",
    "    if isinstance(model, pd.DataFrame):\n",
    "        DF = model\n",
    "    else:\n",
    "        DF = pd.read_csv(model)\n",
    "        \n",
    "    hos = pd.read_csv(ho_check)\n",
    "    nulls = hos.loc[(hos['HO'].isnull())]\n",
    "    not_used = nulls['unique_id'].to_list()\n",
    "    print(not_used)\n",
    "    clean_df = DF[~DF['field_id'].isin(not_used)]\n",
    "    pd.DataFrame.to_csv(clean_df, os.path.join(out_dir,'V4_RF_PixelLevel_Predictions.csv'), sep=',', na_rep='NaN', index=True)"
   ]
  },
  {
   "cell_type": "code",
   "execution_count": 11,
   "id": "4df1178b",
   "metadata": {},
   "outputs": [],
   "source": [
    "###Check balance on folds\n",
    "def check_balance(model, field_list):\n",
    "    df = pd.read_csv(model)\n",
    "    final_train = df[df['training']==1]\n",
    "    final_train.drop_duplicates('field_id', inplace=True)\n",
    "    print(len(final_train))\n",
    "    pd.DataFrame.to_csv(final_train, os.path.join(out_dir,'checkme.csv'), sep=',', na_rep='NaN', index=True)\n",
    "    if 'kFold5' in model:\n",
    "        final_train['HOGroup'] = final_train.apply(lambda x: \n",
    "                                                 0 if x['pred'] == x['0'] else\n",
    "                                                 1 if x['pred'] == x['1'] else\n",
    "                                                 2 if x['pred'] == x['2'] else\n",
    "                                                 3 if x['pred'] == x['3'] else\n",
    "                                                 4 if x['pred'] == x['4'] else\n",
    "                                                 99, axis=1)\n",
    "    elif 'kFold10' in model:\n",
    "        final_train['HOGroup'] = final_train.apply(lambda x: \n",
    "                                                 0 if x['pred'] == x['0'] else\n",
    "                                                 1 if x['pred'] == x['1'] else\n",
    "                                                 2 if x['pred'] == x['2'] else\n",
    "                                                 3 if x['pred'] == x['3'] else\n",
    "                                                 4 if x['pred'] == x['4'] else\n",
    "                                                 5 if x['pred'] == x['5'] else\n",
    "                                                 6 if x['pred'] == x['6'] else\n",
    "                                                 7 if x['pred'] == x['7'] else\n",
    "                                                 8 if x['pred'] == x['8'] else\n",
    "                                                 9 if x['pred'] == x['9'] else\n",
    "                                                 99, axis=1)\n",
    "    else:\n",
    "        print('Check model name. Needs kFold5 or kFold10 in name to work here.')\n",
    "\n",
    "    fields = pd.read_csv(field_list)\n",
    "    final_train_set = final_train.merge(fields,how='left',left_on='field_id', right_on='unique_id')\n",
    "    #Fields99 = \n",
    "    #print('these trining fields are not in a fold: {}'.format(fields99))\n",
    "    balance_check = pd.crosstab(index=final_train_set[\"treatment\"], columns=final_train_set[\"HOGroup\"],margins=True) \n",
    "    return balance_check"
   ]
  },
  {
   "cell_type": "code",
   "execution_count": 5,
   "id": "30b8b5d3",
   "metadata": {},
   "outputs": [
    {
     "name": "stdout",
     "output_type": "stream",
     "text": [
      "original field list has 705 fields, final dataset has 3209 fields\n",
      "Fields dropped: [2114900921]\n"
     ]
    },
    {
     "data": {
      "text/plain": [
       "[2114900921]"
      ]
     },
     "execution_count": 5,
     "metadata": {},
     "output_type": "execute_result"
    }
   ],
   "source": [
    "out_dir = \"../out_local\"  #Note: this is gitignored. Make this directory of change path.\n",
    "#final_model = os.path.join(out_dir,\"V4m1_RF_PixelLevel_Predictions_COMBO_kFold5_Stratified.csv\")\n",
    "final_model = os.path.join(out_dir,\"V4_LOOCV_predictionsLab.csv\")\n",
    "##For training fields:\n",
    "field_list = os.path.join(data_dir,\"labels_2019_with_bbox_V4.csv\")\n",
    "##For all fields:\n",
    "#field_list = os.path.join(data_dir,\"lon_lat_bbox_600m.csv\")\n",
    "\n",
    "#type = 'Training' for training fields only or 'All' for all fields (default)\n",
    "check_dropped(final_model, field_list, type='All')"
   ]
  },
  {
   "cell_type": "code",
   "execution_count": 25,
   "id": "cdba7f1d",
   "metadata": {},
   "outputs": [
    {
     "name": "stdout",
     "output_type": "stream",
     "text": [
      "[2115400141, 3102300701, 1108000531, 1129101071]\n"
     ]
    }
   ],
   "source": [
    "ho_check = os.path.join(data_dir,\"kfold\",\"kfoldcheck.csv\"\n",
    "drop_training_wo_ho(final_model, ho_check)"
   ]
  },
  {
   "cell_type": "code",
   "execution_count": 1,
   "id": "85db3a36",
   "metadata": {},
   "outputs": [],
   "source": [
    "balance = check_balance(final_model, field_list)\n",
    "print(balance)"
   ]
  },
  {
   "cell_type": "code",
   "execution_count": 4,
   "id": "73a5625d",
   "metadata": {},
   "outputs": [
    {
     "name": "stdout",
     "output_type": "stream",
     "text": [
      "0.7796869978757417\n",
      "(0.7796869978757417, 642066, 178873, 35709, 117339)\n"
     ]
    }
   ],
   "source": [
    "####Check accuracy of full dataset (with Training and non combined, e.g. LOOCV output):\n",
    "out_dir = \"../out_local\"  #Note: this is gitignored. Make this directory of change path.\n",
    "final_model = pd.read_csv(os.path.join(out_dir,\"V4m1_RF_PixelLevel_Predictions_COMBO_LOOCV.csv\"))\n",
    "field_list = os.path.join(data_dir,'labels_2019_spot_check_only.csv')\n",
    "\n",
    "##Drop non-labeled pixels:\n",
    "labeled_set = final_model[final_model.holdout == 1]\n",
    "hoacc = get_holdout_accuracy(labeled_set)\n",
    "print(hoacc)"
   ]
  },
  {
   "cell_type": "code",
   "execution_count": 4,
   "id": "6627feb4",
   "metadata": {},
   "outputs": [],
   "source": [
    "####Local check to compare models\n",
    "#old_model_path = os.path.join(data_dir,'V2_Model1_ALLpix_short.csv')\n",
    "#checkpix = ['4118900321_49','4118900321_85','4118900321_150','1101401011_240','1101401011_470','1102300061_312', '1100100331_87']\n",
    "#check_model_verions_pixLevel(checkpix, old_model_path, df_final)"
   ]
  },
  {
   "cell_type": "code",
   "execution_count": null,
   "id": "c24db6b0",
   "metadata": {},
   "outputs": [],
   "source": [
    "######################EXPERIMENTAL############################################################################\n",
    "##############################################################################################################"
   ]
  },
  {
   "cell_type": "code",
   "execution_count": null,
   "id": "756554ac",
   "metadata": {},
   "outputs": [],
   "source": [
    "out_dir = \"../out_local\"  #Note: this is gitignored. Make this directory of change path.\n",
    "allpix = os.path.join(data_dir,'V4_pixelData_Sentinel.csv')\n",
    "#field_path = os.path.join(data_dir,'labels_2019_with_bbox_V2m3.csv')\n",
    "#pixel_features = label_training_pixels(field_path, allpix, out_dir, drop_border=False)\n",
    "#pixel_features_path = pixel_features[0]\n",
    "#variable_path = os.path.join(data_dir,'V4_PixelLevel_variables_Sentinel_refined28.csv')\n",
    "#get_single_pixels(pixel_features_path, field_path, 100, out_dir)"
   ]
  }
 ],
 "metadata": {
  "kernelspec": {
   "display_name": "Python [conda env:anaconda3-venv.burntfields]",
   "language": "python",
   "name": "conda-env-anaconda3-venv.burntfields-py"
  },
  "language_info": {
   "codemirror_mode": {
    "name": "ipython",
    "version": 3
   },
   "file_extension": ".py",
   "mimetype": "text/x-python",
   "name": "python",
   "nbconvert_exporter": "python",
   "pygments_lexer": "ipython3",
   "version": "3.8.18"
  }
 },
 "nbformat": 4,
 "nbformat_minor": 5
}
