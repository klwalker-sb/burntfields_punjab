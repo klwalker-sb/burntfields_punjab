{
 "cells": [
  {
   "cell_type": "code",
   "execution_count": 1,
   "id": "afcc8245",
   "metadata": {},
   "outputs": [],
   "source": [
    "import os\n",
    "import sys\n",
    "from pathlib import Path\n",
    "\n",
    "%matplotlib inline"
   ]
  },
  {
   "cell_type": "code",
   "execution_count": 2,
   "id": "261eb30f",
   "metadata": {},
   "outputs": [],
   "source": [
    "sys.path.append(r\"../burntfields\")\n",
    "from pixel_calcs import *"
   ]
  },
  {
   "cell_type": "code",
   "execution_count": null,
   "id": "0d37bd11",
   "metadata": {},
   "outputs": [],
   "source": [
    "############################################################################################################################\n",
    "###### Pixel Calcs\n",
    "############################################################################################################################\n",
    "###### Main command for pixel-level calcs:\n",
    "out_dir = \"<path/to/out_dir\"\n",
    "data_dir = \"../data\"\n",
    "\n",
    "## All data:\n",
    "field_list = os.path.join(data_dir,'lon_lat_bbox_600m_example.csv')\n",
    "## training data only:\n",
    "#field_list = os.path.join(data_dir,'labels_2019_with_bbox_V2m3.csv')\n",
    "\n",
    "###F or Planet-based calcs:\n",
    "#var_path = os.path.join(data_dir,'V3_PixelLevel_variables_Planet.csv')\n",
    "#img_dir = os.path.join(data_dir,'imagery','planet','Harmonized_Poly_2019')\n",
    "#get_all_pixel_calcs(field_list, img_dir, out_dir, 4, var_path)\n",
    "\n",
    "## For Sentinel-based calcs:\n",
    "#img_dir = os.path.join(data_dir,'imagery','sentinel','Sentinel_Polys_2019')\n",
    "#var_path = os.path.join(data_dir,'V3_PixelLevel_variables_Sentinel.csv')\n",
    "\n",
    "## veg indices:\n",
    "#var_path = \"os.path.join(data_dir,'vegIdxVariables.csv')\n",
    "\n",
    "## For BASMA:\n",
    "#img_dir = os.path.join(data_dir,'imagery','BASMA','BASMA_poly_2019')\n",
    "#var_path = os.path.join(data_dir,'V4_PixelLevel_variables_BASMA_ALL.csv')\n",
    "\n",
    "'''\n",
    "Main command. 4th argument is number of bands. Expects 9 for Sentinel, 4 for Planet and 3 for BASMA\n",
    "(note bands and datatypes are hardcoded, so only 9-band Sentinel, 4-band Planet and 3-band BASMA work currently)\n",
    "'''\n",
    "#get_all_pixel_calcs(field_list, img_dir, out_dir, 3, var_path)\n",
    "\n",
    "####### Add Geographic Data to Pixel Dataset (one-time):\n",
    "#get_pix_coords (ras_file)\n",
    "#pixeldf_path = os.path.join(data_dir,'imagery','planet',pixelData_V2.csv')\n",
    "#pixel_geog = os.path.join(data_dir,'imagery','planet','Pixels_geographicInfo_V2.csv')\n",
    "#add_geographic_info (pixeldf_path, pixel_geog, out_dir)\n",
    "\n",
    "#######Get field-level calcs:\n",
    "#pixeldf_path2 = os.path.join(data_dir,'imagery','planet','pixelData_wGeog_V2m2.csv')\n",
    "## For labeled training fields:\n",
    "#label_source =  os.path.join(data_dir,','labels_2019_with_bbox_V2_model3.csv')\n",
    "#get_aggregate_field_calcs(pixeldf_path2, label_source)\n",
    "## For other fields:\n",
    "#get_aggregate_field_calcs (pixeldf_path2, label_source=\"\")\n"
   ]
  },
  {
   "cell_type": "code",
   "execution_count": null,
   "id": "90ae3cba",
   "metadata": {},
   "outputs": [],
   "source": [
    "###### To Get pixel coordinates (not necessary if matching a dataframe that already has geographic info attached)\n",
    "'''\n",
    "    Separate off coordinates from Pixel Dataframe to input into ArcGIS for geographic variables (only need to do once). \n",
    "    Note that Shapefiles are limited to ~2GB and these files exceed that, so import into feature class within an ArcGIS \n",
    "    Geodatabase to process geographic data or change this so that it writes as a GeoJson and manipulate from there.\n",
    "    '''\n",
    "#pixeldf =  os.path.join(data_dir,'V4_pixelData_Planet_noGeog.csv')\n",
    "#get_coordinate_df(pixeldf, out_dir)\n",
    "\n",
    "'''Geographic variables added using ArcGIS:\n",
    "    'FieldSize' is area of the field in square m\n",
    "    'FieldNbs' = number of (8) neighboring pixels that are within the field\n",
    "    'border' = 1 if any of 8 neighboring pixels is not within the field\n",
    "    '''\n",
    "##### To add pixel coordinates back on to dataframe (again, only necessary if not matching to a dataframe that already has such info)\n",
    "\n",
    "#pixel_geog =  os.path.join(data_dir,'Pixels_GeographicInfo_V4.txt')\n",
    "#pixeldf =  os.path.join(data_dir,'V4_pixelData_Sentinel_noGeog.csv')\n",
    "#add_geographic_info (pixeldf, pixel_geog, out_dir)\n"
   ]
  },
  {
   "cell_type": "code",
   "execution_count": null,
   "id": "ecb4c673",
   "metadata": {},
   "outputs": [],
   "source": [
    "##########################################################################################################################\n",
    "####Data Checking\n",
    "##########################################################################################################################\n",
    "'''\n",
    "To print full list of images in directory to cvs:\n",
    "'''\n",
    "#print_image_list (in_dir, out_dir)\n"
   ]
  }
 ],
 "metadata": {
  "kernelspec": {
   "display_name": "Python [conda env:anaconda3-venv.burntfields]",
   "language": "python",
   "name": "conda-env-anaconda3-venv.burntfields-py"
  },
  "language_info": {
   "codemirror_mode": {
    "name": "ipython",
    "version": 3
   },
   "file_extension": ".py",
   "mimetype": "text/x-python",
   "name": "python",
   "nbconvert_exporter": "python",
   "pygments_lexer": "ipython3",
   "version": "3.8.18"
  }
 },
 "nbformat": 4,
 "nbformat_minor": 5
}
